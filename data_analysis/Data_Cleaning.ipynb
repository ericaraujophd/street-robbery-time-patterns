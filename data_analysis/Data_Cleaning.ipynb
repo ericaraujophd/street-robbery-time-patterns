{
 "cells": [
  {
   "cell_type": "markdown",
   "metadata": {},
   "source": [
    "# Selection and cleaning of the Data Set\n",
    "\n",
    "This is part of Chapter 6\n",
    "\n",
    "The statistics shown here intend to enlighten the characteristics of the data set used to contruct the ABM.\n",
    "\n",
    "The data was provided by the PMMG, to whom we are very thankful.\n",
    "\n",
    "The **programmer** is Eric Araujo.\n",
    "\n",
    "The **last update** was in 12/09/2019"
   ]
  },
  {
   "cell_type": "code",
   "execution_count": 1,
   "metadata": {},
   "outputs": [],
   "source": [
    "import pandas as pd\n",
    "import matplotlib.pyplot as plt\n",
    "plt.style.use('ggplot')\n",
    "import geopandas\n",
    "import descartes\n",
    "import numpy as np\n",
    "\n",
    "import folium\n",
    "import seaborn as sns\n",
    "\n",
    "%matplotlib inline"
   ]
  },
  {
   "cell_type": "code",
   "execution_count": 2,
   "metadata": {},
   "outputs": [],
   "source": [
    "xls = pd.ExcelFile('data/Lavras.xls')\n",
    "registers = pd.read_excel(xls, 'OCORRENCIAS')\n",
    "involved = pd.read_excel(xls, 'ENVOLVIDOS')\n",
    "#materials = pd.read_excel(xls, 'MATERIAIS')"
   ]
  },
  {
   "cell_type": "code",
   "execution_count": 6,
   "metadata": {},
   "outputs": [
    {
     "data": {
      "text/html": [
       "<div>\n",
       "<style scoped>\n",
       "    .dataframe tbody tr th:only-of-type {\n",
       "        vertical-align: middle;\n",
       "    }\n",
       "\n",
       "    .dataframe tbody tr th {\n",
       "        vertical-align: top;\n",
       "    }\n",
       "\n",
       "    .dataframe thead th {\n",
       "        text-align: right;\n",
       "    }\n",
       "</style>\n",
       "<table border=\"1\" class=\"dataframe\">\n",
       "  <thead>\n",
       "    <tr style=\"text-align: right;\">\n",
       "      <th></th>\n",
       "      <th>Ano Fato</th>\n",
       "      <th>Bairro</th>\n",
       "      <th>Desc Longa Meio Utilizado</th>\n",
       "      <th>Desc Longa Subgrupo Complemento Nat</th>\n",
       "      <th>Descrição Longa Local Imediato</th>\n",
       "      <th>Descrição Subclasse Nat Principal</th>\n",
       "      <th>Dia da Semana Fato</th>\n",
       "      <th>Dia Numérico Fato</th>\n",
       "      <th>Faixa 1 Hora Fato</th>\n",
       "      <th>Latitude</th>\n",
       "      <th>Longitude</th>\n",
       "      <th>Mês Numérico Fato</th>\n",
       "      <th>Município</th>\n",
       "      <th>Número REDS</th>\n",
       "      <th>Tentado/Consumado Nat Principal</th>\n",
       "      <th>UNIDADE_AREA</th>\n",
       "      <th>Unidade Área Militar</th>\n",
       "      <th>Município - Código</th>\n",
       "    </tr>\n",
       "  </thead>\n",
       "  <tbody>\n",
       "    <tr>\n",
       "      <td>0</td>\n",
       "      <td>2014</td>\n",
       "      <td>ANISIO ALVES DE ABREU</td>\n",
       "      <td>AGRESSAO FISICA SEM EMPREGO DE INSTRUMENTOS</td>\n",
       "      <td>BENS / VALORES DE ESTABELECIMENTO /PESSOA JURI...</td>\n",
       "      <td>POSTO DE COMBUSTIVEL</td>\n",
       "      <td>ROUBO</td>\n",
       "      <td>QUARTA-FEIRA</td>\n",
       "      <td>8</td>\n",
       "      <td>De 03:00 as 03:59</td>\n",
       "      <td>-21.254166</td>\n",
       "      <td>-44.999031</td>\n",
       "      <td>1</td>\n",
       "      <td>LAVRAS</td>\n",
       "      <td>2014-000525047-001</td>\n",
       "      <td>TENTADO</td>\n",
       "      <td>08 BPM</td>\n",
       "      <td>54 CIA PM/8 BPM/6 RPM</td>\n",
       "      <td>313820</td>\n",
       "    </tr>\n",
       "    <tr>\n",
       "      <td>1</td>\n",
       "      <td>2014</td>\n",
       "      <td>ANISIO ALVES DE ABREU</td>\n",
       "      <td>ARMAS DE FOGO</td>\n",
       "      <td>BENS / VALORES DE ESTABELECIMENTO /PESSOA JURI...</td>\n",
       "      <td>POSTO DE COMBUSTIVEL</td>\n",
       "      <td>ROUBO</td>\n",
       "      <td>QUARTA-FEIRA</td>\n",
       "      <td>29</td>\n",
       "      <td>De 00:00 as 00:59</td>\n",
       "      <td>-21.254166</td>\n",
       "      <td>-44.999031</td>\n",
       "      <td>1</td>\n",
       "      <td>LAVRAS</td>\n",
       "      <td>2014-002172720-001</td>\n",
       "      <td>CONSUMADO</td>\n",
       "      <td>08 BPM</td>\n",
       "      <td>54 CIA PM/8 BPM/6 RPM</td>\n",
       "      <td>313820</td>\n",
       "    </tr>\n",
       "  </tbody>\n",
       "</table>\n",
       "</div>"
      ],
      "text/plain": [
       "   Ano Fato                 Bairro  \\\n",
       "0      2014  ANISIO ALVES DE ABREU   \n",
       "1      2014  ANISIO ALVES DE ABREU   \n",
       "\n",
       "                     Desc Longa Meio Utilizado  \\\n",
       "0  AGRESSAO FISICA SEM EMPREGO DE INSTRUMENTOS   \n",
       "1                                ARMAS DE FOGO   \n",
       "\n",
       "                 Desc Longa Subgrupo Complemento Nat  \\\n",
       "0  BENS / VALORES DE ESTABELECIMENTO /PESSOA JURI...   \n",
       "1  BENS / VALORES DE ESTABELECIMENTO /PESSOA JURI...   \n",
       "\n",
       "  Descrição Longa Local Imediato Descrição Subclasse Nat Principal  \\\n",
       "0           POSTO DE COMBUSTIVEL                             ROUBO   \n",
       "1           POSTO DE COMBUSTIVEL                             ROUBO   \n",
       "\n",
       "  Dia da Semana Fato  Dia Numérico Fato          Faixa 1 Hora Fato   Latitude  \\\n",
       "0       QUARTA-FEIRA                  8  De 03:00 as 03:59         -21.254166   \n",
       "1       QUARTA-FEIRA                 29  De 00:00 as 00:59         -21.254166   \n",
       "\n",
       "   Longitude  Mês Numérico Fato Município         Número REDS  \\\n",
       "0 -44.999031                  1    LAVRAS  2014-000525047-001   \n",
       "1 -44.999031                  1    LAVRAS  2014-002172720-001   \n",
       "\n",
       "  Tentado/Consumado Nat Principal UNIDADE_AREA   Unidade Área Militar  \\\n",
       "0                         TENTADO       08 BPM  54 CIA PM/8 BPM/6 RPM   \n",
       "1                       CONSUMADO       08 BPM  54 CIA PM/8 BPM/6 RPM   \n",
       "\n",
       "   Município - Código  \n",
       "0              313820  \n",
       "1              313820  "
      ]
     },
     "execution_count": 6,
     "metadata": {},
     "output_type": "execute_result"
    }
   ],
   "source": [
    "registers.head(2)"
   ]
  },
  {
   "cell_type": "code",
   "execution_count": 7,
   "metadata": {},
   "outputs": [
    {
     "data": {
      "text/plain": [
       "910"
      ]
     },
     "execution_count": 7,
     "metadata": {},
     "output_type": "execute_result"
    }
   ],
   "source": [
    "len(registers)"
   ]
  },
  {
   "cell_type": "code",
   "execution_count": 8,
   "metadata": {},
   "outputs": [
    {
     "data": {
      "text/html": [
       "<div>\n",
       "<style scoped>\n",
       "    .dataframe tbody tr th:only-of-type {\n",
       "        vertical-align: middle;\n",
       "    }\n",
       "\n",
       "    .dataframe tbody tr th {\n",
       "        vertical-align: top;\n",
       "    }\n",
       "\n",
       "    .dataframe thead th {\n",
       "        text-align: right;\n",
       "    }\n",
       "</style>\n",
       "<table border=\"1\" class=\"dataframe\">\n",
       "  <thead>\n",
       "    <tr style=\"text-align: right;\">\n",
       "      <th></th>\n",
       "      <th>Número REDS</th>\n",
       "      <th>Tipo Envolvimento</th>\n",
       "      <th>Idade Aparente</th>\n",
       "      <th>Cútis</th>\n",
       "      <th>Deficiência Física</th>\n",
       "      <th>Estado Civil</th>\n",
       "      <th>Grau Lesão</th>\n",
       "      <th>Escolaridade</th>\n",
       "      <th>Prisão / Apreensão</th>\n",
       "      <th>Sexo</th>\n",
       "      <th>Ocupação Atual</th>\n",
       "      <th>Nacionalidade</th>\n",
       "    </tr>\n",
       "  </thead>\n",
       "  <tbody>\n",
       "    <tr>\n",
       "      <td>0</td>\n",
       "      <td>2014-000053870-001</td>\n",
       "      <td>VITIMA DE ACAO CRIMINAL / CIVEL</td>\n",
       "      <td>43.0</td>\n",
       "      <td>PARDA</td>\n",
       "      <td>PREENCHIMENTO OPCIONAL</td>\n",
       "      <td>CASADO</td>\n",
       "      <td>SEM LESOES APARENTES</td>\n",
       "      <td>ENSINO MEDIO COMPLETO (2º GRAU)</td>\n",
       "      <td>PREENCHIMENTO OPCIONAL</td>\n",
       "      <td>MASCULINO</td>\n",
       "      <td>NaN</td>\n",
       "      <td>BRASILEIRA</td>\n",
       "    </tr>\n",
       "    <tr>\n",
       "      <td>1</td>\n",
       "      <td>2014-000143918-001</td>\n",
       "      <td>VITIMA DE ACAO CRIMINAL / CIVEL</td>\n",
       "      <td>22.0</td>\n",
       "      <td>NEGRA</td>\n",
       "      <td>PREENCHIMENTO OPCIONAL</td>\n",
       "      <td>SOLTEIRO</td>\n",
       "      <td>SEM LESOES APARENTES</td>\n",
       "      <td>ENSINO FUNDAMENTAL COMPLETO (8 ANOS ESTUDO)</td>\n",
       "      <td>PREENCHIMENTO OPCIONAL</td>\n",
       "      <td>MASCULINO</td>\n",
       "      <td>NaN</td>\n",
       "      <td>BRASILEIRA</td>\n",
       "    </tr>\n",
       "  </tbody>\n",
       "</table>\n",
       "</div>"
      ],
      "text/plain": [
       "          Número REDS                Tipo Envolvimento  Idade Aparente  Cútis  \\\n",
       "0  2014-000053870-001  VITIMA DE ACAO CRIMINAL / CIVEL            43.0  PARDA   \n",
       "1  2014-000143918-001  VITIMA DE ACAO CRIMINAL / CIVEL            22.0  NEGRA   \n",
       "\n",
       "       Deficiência Física Estado Civil            Grau Lesão  \\\n",
       "0  PREENCHIMENTO OPCIONAL       CASADO  SEM LESOES APARENTES   \n",
       "1  PREENCHIMENTO OPCIONAL     SOLTEIRO  SEM LESOES APARENTES   \n",
       "\n",
       "                                  Escolaridade      Prisão / Apreensão  \\\n",
       "0              ENSINO MEDIO COMPLETO (2º GRAU)  PREENCHIMENTO OPCIONAL   \n",
       "1  ENSINO FUNDAMENTAL COMPLETO (8 ANOS ESTUDO)  PREENCHIMENTO OPCIONAL   \n",
       "\n",
       "        Sexo Ocupação Atual Nacionalidade  \n",
       "0  MASCULINO            NaN    BRASILEIRA  \n",
       "1  MASCULINO            NaN    BRASILEIRA  "
      ]
     },
     "execution_count": 8,
     "metadata": {},
     "output_type": "execute_result"
    }
   ],
   "source": [
    "involved.head(2)"
   ]
  },
  {
   "cell_type": "markdown",
   "metadata": {},
   "source": [
    "## Structuring and selecting data for registers"
   ]
  },
  {
   "cell_type": "code",
   "execution_count": 9,
   "metadata": {},
   "outputs": [],
   "source": [
    "# Renaming registers columns\n",
    "translate_cols = {'Ano Fato': 'year',\n",
    "                  'Mês Numérico Fato': 'month',\n",
    "                  'Dia Numérico Fato': 'day',\n",
    "                  'Dia da Semana Fato': 'week_day',\n",
    "                  'Bairro': 'neighborhood',\n",
    "                  'Desc Longa Meio Utilizado': 'violence_type',\n",
    "                  'Desc Longa Subgrupo Complemento Nat': 'type_object_robbed',\n",
    "                  'Descrição Longa Local Imediato': 'location_description',\n",
    "                  'Descrição Subclasse Nat Principal': 'crime_type',\n",
    "                  'Faixa 1 Hora Fato': 'one_h_window',\n",
    "                  'Latitude': 'lat',\n",
    "                  'Longitude': 'lon',\n",
    "                  'Município': 'city',\n",
    "                  'Número REDS': 'reds',\n",
    "                  'Tentado/Consumado Nat Principal': 'committed',\n",
    "                  'UNIDADE_AREA': 'pm_area',\n",
    "                  'Unidade Área Militar': 'pm_unity', \n",
    "                  'Município - Código': 'city_code'\n",
    "                 }\n",
    "registers.rename(columns=translate_cols, inplace=True)\n",
    "\n",
    "# Removing irrelevant columns for registers\n",
    "registers = registers[['year', 'neighborhood', 'violence_type', 'type_object_robbed',\n",
    "       'location_description', 'crime_type', 'week_day', 'day',\n",
    "       'one_h_window', 'lat', 'lon', 'month', 'city', 'reds', 'committed',\n",
    "       ]]\n",
    "\n",
    "# Selecting data from the years (2014-2018)\n",
    "registers = registers[registers.year.isin([2014,2015,2016,2017,2018])]\n",
    "\n",
    "# Removing white spaces in one_h_window column\n",
    "registers.one_h_window = registers.one_h_window.str.rstrip()\n",
    "\n",
    "\n",
    "# Changing time windows\n",
    "one_h_replacement_dict = {   'De 00:00 as 00:59': '00:00 - 00:59',\n",
    "                             'De 01:00 as 01:59': '01:00 - 01:59',\n",
    "                             'De 02:00 as 02:59': '02:00 - 02:59',\n",
    "                             'De 03:00 as 03:59': '03:00 - 03:59',\n",
    "                             'De 04:00 as 04:59': '04:00 - 04:59',\n",
    "                             'De 05:00 as 05:59': '05:00 - 05:59',\n",
    "                             'De 06:00 as 06:59': '06:00 - 06:59',\n",
    "                             'De 07:00 as 07:59': '07:00 - 07:59',\n",
    "                             'De 08:00 as 08:59': '08:00 - 08:59',\n",
    "                             'De 09:00 as 09:59': '09:00 - 09:59',\n",
    "                             'De 10:00 as 10:59': '10:00 - 10:59',\n",
    "                             'De 11:00 as 11:59': '11:00 - 11:59',\n",
    "                             'De 12:00 as 12:59': '12:00 - 12:59',\n",
    "                             'De 13:00 as 13:59': '13:00 - 13:59',\n",
    "                             'De 14:00 as 14:59': '14:00 - 14:59',\n",
    "                             'De 15:00 as 15:59': '15:00 - 15:59',\n",
    "                             'De 16:00 as 16:59': '16:00 - 16:59',\n",
    "                             'De 17:00 as 17:59': '17:00 - 17:59',\n",
    "                             'De 18:00 as 18:59': '18:00 - 18:59',\n",
    "                             'De 19:00 as 19:59': '19:00 - 19:59',\n",
    "                             'De 20:00 as 20:59': '20:00 - 20:59',\n",
    "                             'De 21:00 as 21:59': '21:00 - 21:59',\n",
    "                             'De 22:00 as 22:59': '22:00 - 22:59',\n",
    "                             'De 23:00 as 23:59': '23:00 - 23:59'}\n",
    "\n",
    "registers.one_h_window.replace(one_h_replacement_dict, inplace=True)\n",
    "\n",
    "# Input NaN to missing values in the data set\n",
    "missing_values = ['INVÁLIDO', 'ESCOLARIDADE - IGNORADA', 'IGNORADA', 'PREENCHIMENTO OPCIONAL', 'INVALIDO', \n",
    "                  'ESTADO CIVIL - IGNORADO', 'ESTADO CIVIL - NAO DECLARADO', 'PREENCHIMENTO OPCIONAL', \n",
    "                  'GRAU DA LESAO - IGNORADO' ]\n",
    "registers.replace(to_replace=missing_values, value=np.nan, inplace=True)"
   ]
  },
  {
   "cell_type": "code",
   "execution_count": 11,
   "metadata": {},
   "outputs": [
    {
     "name": "stdout",
     "output_type": "stream",
     "text": [
      "Number of registers in the file: \t 862\n",
      "Number of unique REDS - IDs: \t\t 862\n"
     ]
    }
   ],
   "source": [
    "# No duplicates\n",
    "print('Number of registers in the file: \\t', len(registers))\n",
    "print('Number of unique REDS - IDs: \\t\\t', len(set(registers.reds)))"
   ]
  },
  {
   "cell_type": "code",
   "execution_count": 12,
   "metadata": {},
   "outputs": [
    {
     "data": {
      "text/plain": [
       "Text(0.5, 1, 'Missing Data')"
      ]
     },
     "execution_count": 12,
     "metadata": {},
     "output_type": "execute_result"
    },
    {
     "data": {
      "image/png": "[encoded data removed]",
      "text/plain": [
       "<Figure size 864x1008 with 1 Axes>"
      ]
     },
     "metadata": {
      "needs_background": "light"
     },
     "output_type": "display_data"
    }
   ],
   "source": [
    "plt.figure(figsize=(12,14))\n",
    "sns.heatmap(registers.isnull(), cbar = False, cmap = 'viridis')\n",
    "plt.title('Missing Data')"
   ]
  },
  {
   "cell_type": "code",
   "execution_count": 13,
   "metadata": {},
   "outputs": [
    {
     "name": "stdout",
     "output_type": "stream",
     "text": [
      "Registers without lat or lon: \t 59\n",
      "Total registers: \t\t 862\n",
      "Percentage of missing data: \t 6.844547563805104 %\n"
     ]
    }
   ],
   "source": [
    "miss_amount = len(registers[(pd.isna(registers.lat)) | (pd.isna(registers.lon))])\n",
    "print('Registers without lat or lon: \\t', miss_amount)\n",
    "print('Total registers: \\t\\t', len(registers))\n",
    "print('Percentage of missing data: \\t', miss_amount*100/len(registers), '%')"
   ]
  },
  {
   "cell_type": "code",
   "execution_count": 14,
   "metadata": {},
   "outputs": [
    {
     "data": {
      "text/plain": [
       "803"
      ]
     },
     "execution_count": 14,
     "metadata": {},
     "output_type": "execute_result"
    }
   ],
   "source": [
    "registers.dropna(axis=0, subset=['lat', 'lon'], inplace=True)\n",
    "len(registers)"
   ]
  },
  {
   "cell_type": "code",
   "execution_count": 10,
   "metadata": {},
   "outputs": [
    {
     "data": {
      "text/plain": [
       "VIA DE ACESSO PUBLICA                              407\n",
       "POSTO DE COMBUSTIVEL                               113\n",
       "BAR / LANCHONETE / RESTAURANTE / SIMILAR            62\n",
       "OUTROS - ESTABELECIMENTOS COMERCIAIS / SERVICOS     29\n",
       "CASA                                                29\n",
       "MERCEARIA / SACOLAO / SUPERMERCADO                  27\n",
       "CONFEITARIA / PADARIA / PANIFICADORA                24\n",
       "LOJA DIVERSA                                        16\n",
       "SITIO                                               12\n",
       "BOATE / CASA DE SHOW / SIMILAR                      11\n",
       "Name: location_description, dtype: int64"
      ]
     },
     "execution_count": 10,
     "metadata": {},
     "output_type": "execute_result"
    }
   ],
   "source": [
    "# Location description\n",
    "pd.value_counts(registers.location_description)[:10]"
   ]
  },
  {
   "cell_type": "code",
   "execution_count": 11,
   "metadata": {},
   "outputs": [
    {
     "data": {
      "text/plain": [
       "0.5068493150684932"
      ]
     },
     "execution_count": 11,
     "metadata": {},
     "output_type": "execute_result"
    }
   ],
   "source": [
    "407/803"
   ]
  },
  {
   "cell_type": "code",
   "execution_count": 12,
   "metadata": {},
   "outputs": [],
   "source": [
    "# Select crimes on the streets and reset index\n",
    "registers_streets = registers[registers.location_description=='VIA DE ACESSO PUBLICA']\n",
    "registers_streets.reset_index(drop=True, inplace=True)"
   ]
  },
  {
   "cell_type": "code",
   "execution_count": 13,
   "metadata": {},
   "outputs": [],
   "source": [
    "location_comparison_df = pd.DataFrame([registers.year.value_counts().sort_index(ascending=False), \n",
    "                                      registers_streets.year.value_counts().sort_index(ascending=False)], \n",
    "                                      index=['Total', 'Streets']).T"
   ]
  },
  {
   "cell_type": "code",
   "execution_count": 14,
   "metadata": {},
   "outputs": [
    {
     "data": {
      "text/html": [
       "<div>\n",
       "<style scoped>\n",
       "    .dataframe tbody tr th:only-of-type {\n",
       "        vertical-align: middle;\n",
       "    }\n",
       "\n",
       "    .dataframe tbody tr th {\n",
       "        vertical-align: top;\n",
       "    }\n",
       "\n",
       "    .dataframe thead th {\n",
       "        text-align: right;\n",
       "    }\n",
       "</style>\n",
       "<table border=\"1\" class=\"dataframe\">\n",
       "  <thead>\n",
       "    <tr style=\"text-align: right;\">\n",
       "      <th></th>\n",
       "      <th>Total</th>\n",
       "      <th>Streets</th>\n",
       "    </tr>\n",
       "  </thead>\n",
       "  <tbody>\n",
       "    <tr>\n",
       "      <td>2018</td>\n",
       "      <td>121</td>\n",
       "      <td>66</td>\n",
       "    </tr>\n",
       "    <tr>\n",
       "      <td>2017</td>\n",
       "      <td>187</td>\n",
       "      <td>101</td>\n",
       "    </tr>\n",
       "    <tr>\n",
       "      <td>2016</td>\n",
       "      <td>221</td>\n",
       "      <td>104</td>\n",
       "    </tr>\n",
       "    <tr>\n",
       "      <td>2015</td>\n",
       "      <td>161</td>\n",
       "      <td>77</td>\n",
       "    </tr>\n",
       "    <tr>\n",
       "      <td>2014</td>\n",
       "      <td>113</td>\n",
       "      <td>59</td>\n",
       "    </tr>\n",
       "  </tbody>\n",
       "</table>\n",
       "</div>"
      ],
      "text/plain": [
       "      Total  Streets\n",
       "2018    121       66\n",
       "2017    187      101\n",
       "2016    221      104\n",
       "2015    161       77\n",
       "2014    113       59"
      ]
     },
     "execution_count": 14,
     "metadata": {},
     "output_type": "execute_result"
    }
   ],
   "source": [
    "location_comparison_df"
   ]
  },
  {
   "cell_type": "code",
   "execution_count": 15,
   "metadata": {},
   "outputs": [
    {
     "data": {
      "text/plain": [
       "Total      803\n",
       "Streets    407\n",
       "dtype: int64"
      ]
     },
     "execution_count": 15,
     "metadata": {},
     "output_type": "execute_result"
    }
   ],
   "source": [
    "location_comparison_df.sum()"
   ]
  },
  {
   "cell_type": "code",
   "execution_count": 16,
   "metadata": {},
   "outputs": [
    {
     "data": {
      "image/png": "[encoded data removed]",
      "text/plain": [
       "<Figure size 864x576 with 1 Axes>"
      ]
     },
     "metadata": {
      "needs_background": "light"
     },
     "output_type": "display_data"
    }
   ],
   "source": [
    "# Crimes per year\n",
    "ax = location_comparison_df.plot(kind='barh', figsize=((12,8)))\n",
    "\n",
    "ax.set_alpha(0.8)\n",
    "#plt.title('Robberies per year in Lavras (2014-2018)', fontsize=18)\n",
    "plt.xlabel('# of muggings', fontsize=14)\n",
    "plt.xlim(0,250)\n",
    "# create a list to collect the plt.patches data\n",
    "totals = []\n",
    "\n",
    "# find the values and append to list\n",
    "for i in ax.patches:\n",
    "    totals.append(i.get_width())\n",
    "    #print(totals)\n",
    "    \n",
    "for i in ax.patches:\n",
    "    # get_width pulls left or right; get_y pushes up or down\n",
    "    ax.text(i.get_width()+.3, i.get_y()+.2, \\\n",
    "            str(round((i.get_width()), 2)), fontsize=15,\n",
    "color='dimgrey')\n",
    "# invert for largest on top \n",
    "ax.invert_yaxis()"
   ]
  },
  {
   "cell_type": "markdown",
   "metadata": {},
   "source": [
    "## Selecting data within map limits\n",
    "\n",
    "lower_x = -45.0059971\n",
    "\n",
    "higher_x = -44.9870231\n",
    "\n",
    "lower_y = -21.2479824\n",
    "\n",
    "higher_y = -21.2360275"
   ]
  },
  {
   "cell_type": "code",
   "execution_count": 17,
   "metadata": {},
   "outputs": [],
   "source": [
    "# Limits for lat and lon\n",
    "# x\n",
    "lower_lon = -45.0059971\n",
    "higher_lon = -44.9870231\n",
    "# y\n",
    "lower_lat = -21.2479824\n",
    "higher_lat = -21.2360275"
   ]
  },
  {
   "cell_type": "code",
   "execution_count": 18,
   "metadata": {},
   "outputs": [
    {
     "name": "stdout",
     "output_type": "stream",
     "text": [
      "Registers of muggings in the streets within GIS limist:  113\n"
     ]
    }
   ],
   "source": [
    "# Selecting registers based on GIS limits\n",
    "reg_streets_gis = registers_streets[(registers_streets.lat >= lower_lat) & (registers_streets.lat <= higher_lat) &\n",
    "                                    (registers_streets.lon >= lower_lon) & (registers_streets.lon <= higher_lon)]\n",
    "print('Registers of muggings in the streets within GIS limist: ', len(reg_streets_gis))"
   ]
  },
  {
   "cell_type": "code",
   "execution_count": 19,
   "metadata": {},
   "outputs": [],
   "source": [
    "mugggings_comparison_df = pd.DataFrame([registers.year.value_counts().sort_index(ascending=False), \n",
    "                                      registers_streets.year.value_counts().sort_index(ascending=False),\n",
    "                                      reg_streets_gis.year.value_counts().sort_index(ascending=False)], \n",
    "                                      index=['Total', 'Streets', 'Streets + GIS limits']).T"
   ]
  },
  {
   "cell_type": "code",
   "execution_count": 20,
   "metadata": {},
   "outputs": [
    {
     "data": {
      "text/html": [
       "<div>\n",
       "<style scoped>\n",
       "    .dataframe tbody tr th:only-of-type {\n",
       "        vertical-align: middle;\n",
       "    }\n",
       "\n",
       "    .dataframe tbody tr th {\n",
       "        vertical-align: top;\n",
       "    }\n",
       "\n",
       "    .dataframe thead th {\n",
       "        text-align: right;\n",
       "    }\n",
       "</style>\n",
       "<table border=\"1\" class=\"dataframe\">\n",
       "  <thead>\n",
       "    <tr style=\"text-align: right;\">\n",
       "      <th></th>\n",
       "      <th>Total</th>\n",
       "      <th>Streets</th>\n",
       "      <th>Streets + GIS limits</th>\n",
       "    </tr>\n",
       "  </thead>\n",
       "  <tbody>\n",
       "    <tr>\n",
       "      <td>2018</td>\n",
       "      <td>121</td>\n",
       "      <td>66</td>\n",
       "      <td>14</td>\n",
       "    </tr>\n",
       "    <tr>\n",
       "      <td>2017</td>\n",
       "      <td>187</td>\n",
       "      <td>101</td>\n",
       "      <td>26</td>\n",
       "    </tr>\n",
       "    <tr>\n",
       "      <td>2016</td>\n",
       "      <td>221</td>\n",
       "      <td>104</td>\n",
       "      <td>31</td>\n",
       "    </tr>\n",
       "    <tr>\n",
       "      <td>2015</td>\n",
       "      <td>161</td>\n",
       "      <td>77</td>\n",
       "      <td>22</td>\n",
       "    </tr>\n",
       "    <tr>\n",
       "      <td>2014</td>\n",
       "      <td>113</td>\n",
       "      <td>59</td>\n",
       "      <td>20</td>\n",
       "    </tr>\n",
       "  </tbody>\n",
       "</table>\n",
       "</div>"
      ],
      "text/plain": [
       "      Total  Streets  Streets + GIS limits\n",
       "2018    121       66                    14\n",
       "2017    187      101                    26\n",
       "2016    221      104                    31\n",
       "2015    161       77                    22\n",
       "2014    113       59                    20"
      ]
     },
     "execution_count": 20,
     "metadata": {},
     "output_type": "execute_result"
    }
   ],
   "source": [
    "mugggings_comparison_df"
   ]
  },
  {
   "cell_type": "code",
   "execution_count": 21,
   "metadata": {},
   "outputs": [
    {
     "data": {
      "text/plain": [
       "Total                   803\n",
       "Streets                 407\n",
       "Streets + GIS limits    113\n",
       "dtype: int64"
      ]
     },
     "execution_count": 21,
     "metadata": {},
     "output_type": "execute_result"
    }
   ],
   "source": [
    "mugggings_comparison_df.sum()"
   ]
  },
  {
   "cell_type": "code",
   "execution_count": 22,
   "metadata": {},
   "outputs": [
    {
     "data": {
      "image/png": "[encoded data removed]",
      "text/plain": [
       "<Figure size 864x576 with 1 Axes>"
      ]
     },
     "metadata": {
      "needs_background": "light"
     },
     "output_type": "display_data"
    }
   ],
   "source": [
    "# Crimes per year\n",
    "ax = mugggings_comparison_df.plot(kind='barh', figsize=((12,8)))\n",
    "\n",
    "ax.set_alpha(0.8)\n",
    "#plt.title('Robberies per year in Lavras (2014-2018)', fontsize=18)\n",
    "plt.xlabel('# of muggings', fontsize=14)\n",
    "plt.xlim(0,250)\n",
    "# create a list to collect the plt.patches data\n",
    "totals = []\n",
    "\n",
    "# find the values and append to list\n",
    "for i in ax.patches:\n",
    "    totals.append(i.get_width())\n",
    "    #print(totals)\n",
    "    \n",
    "for i in ax.patches:\n",
    "    # get_width pulls left or right; get_y pushes up or down\n",
    "    ax.text(i.get_width()+.3, i.get_y()+.16, \\\n",
    "            str(round((i.get_width()), 2)), fontsize=15,\n",
    "color='dimgrey')\n",
    "# invert for largest on top \n",
    "ax.invert_yaxis()"
   ]
  },
  {
   "cell_type": "code",
   "execution_count": 23,
   "metadata": {},
   "outputs": [
    {
     "data": {
      "text/html": [
       "<div>\n",
       "<style scoped>\n",
       "    .dataframe tbody tr th:only-of-type {\n",
       "        vertical-align: middle;\n",
       "    }\n",
       "\n",
       "    .dataframe tbody tr th {\n",
       "        vertical-align: top;\n",
       "    }\n",
       "\n",
       "    .dataframe thead th {\n",
       "        text-align: right;\n",
       "    }\n",
       "</style>\n",
       "<table border=\"1\" class=\"dataframe\">\n",
       "  <thead>\n",
       "    <tr style=\"text-align: right;\">\n",
       "      <th></th>\n",
       "      <th>year</th>\n",
       "      <th>neighborhood</th>\n",
       "      <th>violence_type</th>\n",
       "      <th>type_object_robbed</th>\n",
       "      <th>location_description</th>\n",
       "      <th>crime_type</th>\n",
       "      <th>week_day</th>\n",
       "      <th>day</th>\n",
       "      <th>one_h_window</th>\n",
       "      <th>lat</th>\n",
       "      <th>lon</th>\n",
       "      <th>month</th>\n",
       "      <th>city</th>\n",
       "      <th>reds</th>\n",
       "      <th>committed</th>\n",
       "    </tr>\n",
       "  </thead>\n",
       "  <tbody>\n",
       "    <tr>\n",
       "      <td>0</td>\n",
       "      <td>2014</td>\n",
       "      <td>CENTRO</td>\n",
       "      <td>AGRESSAO FISICA SEM EMPREGO DE INSTRUMENTOS</td>\n",
       "      <td>BENS / VALORES DE TRANSEUNTE</td>\n",
       "      <td>VIA DE ACESSO PUBLICA</td>\n",
       "      <td>ROUBO</td>\n",
       "      <td>DOMINGO</td>\n",
       "      <td>29</td>\n",
       "      <td>22:00 - 22:59</td>\n",
       "      <td>-21.241168</td>\n",
       "      <td>-44.998860</td>\n",
       "      <td>6</td>\n",
       "      <td>LAVRAS</td>\n",
       "      <td>2014-013823194-001</td>\n",
       "      <td>TENTADO</td>\n",
       "    </tr>\n",
       "    <tr>\n",
       "      <td>1</td>\n",
       "      <td>2014</td>\n",
       "      <td>CENTRO</td>\n",
       "      <td>AGRESSAO FISICA SEM EMPREGO DE INSTRUMENTOS</td>\n",
       "      <td>BENS / VALORES DE TRANSEUNTE</td>\n",
       "      <td>VIA DE ACESSO PUBLICA</td>\n",
       "      <td>ROUBO</td>\n",
       "      <td>SÁBADO</td>\n",
       "      <td>4</td>\n",
       "      <td>02:00 - 02:59</td>\n",
       "      <td>-21.246095</td>\n",
       "      <td>-45.000668</td>\n",
       "      <td>1</td>\n",
       "      <td>LAVRAS</td>\n",
       "      <td>2014-000231361-001</td>\n",
       "      <td>CONSUMADO</td>\n",
       "    </tr>\n",
       "  </tbody>\n",
       "</table>\n",
       "</div>"
      ],
      "text/plain": [
       "   year neighborhood                                violence_type  \\\n",
       "0  2014       CENTRO  AGRESSAO FISICA SEM EMPREGO DE INSTRUMENTOS   \n",
       "1  2014       CENTRO  AGRESSAO FISICA SEM EMPREGO DE INSTRUMENTOS   \n",
       "\n",
       "             type_object_robbed   location_description crime_type week_day  \\\n",
       "0  BENS / VALORES DE TRANSEUNTE  VIA DE ACESSO PUBLICA      ROUBO  DOMINGO   \n",
       "1  BENS / VALORES DE TRANSEUNTE  VIA DE ACESSO PUBLICA      ROUBO   SÁBADO   \n",
       "\n",
       "   day   one_h_window        lat        lon  month    city  \\\n",
       "0   29  22:00 - 22:59 -21.241168 -44.998860      6  LAVRAS   \n",
       "1    4  02:00 - 02:59 -21.246095 -45.000668      1  LAVRAS   \n",
       "\n",
       "                 reds  committed  \n",
       "0  2014-013823194-001    TENTADO  \n",
       "1  2014-000231361-001  CONSUMADO  "
      ]
     },
     "execution_count": 23,
     "metadata": {},
     "output_type": "execute_result"
    }
   ],
   "source": [
    "reg_streets_gis.reset_index(drop=True, inplace=True)\n",
    "reg_streets_gis.head(2)"
   ]
  },
  {
   "cell_type": "code",
   "execution_count": 24,
   "metadata": {},
   "outputs": [],
   "source": [
    "reg_time_df = pd.DataFrame([registers.one_h_window.value_counts().sort_index(),\n",
    "              registers_streets.one_h_window.value_counts().sort_index(),\n",
    "              reg_streets_gis.one_h_window.value_counts().sort_index()],\n",
    "             index=['Total', 'Streets', 'Streets + GIS']\n",
    "            ).T.fillna(0)"
   ]
  },
  {
   "cell_type": "code",
   "execution_count": 25,
   "metadata": {},
   "outputs": [
    {
     "data": {
      "text/plain": [
       "Text(0, 0.5, '# of muggings')"
      ]
     },
     "execution_count": 25,
     "metadata": {},
     "output_type": "execute_result"
    },
    {
     "data": {
      "image/png": "[encoded data removed]",
      "text/plain": [
       "<Figure size 864x576 with 1 Axes>"
      ]
     },
     "metadata": {
      "needs_background": "light"
     },
     "output_type": "display_data"
    }
   ],
   "source": [
    "ax = reg_time_df.plot(kind='bar', figsize=((12,8)))\n",
    "#ax.set_xlabel('Time of the day')\n",
    "ax.set_ylabel('# of muggings')"
   ]
  },
  {
   "cell_type": "code",
   "execution_count": 26,
   "metadata": {},
   "outputs": [],
   "source": [
    "reg_time_df['Total (%)'] = reg_time_df['Total']*100 / sum(reg_time_df['Total'])\n",
    "reg_time_df['Streets (%)'] = reg_time_df['Streets']*100 / sum(reg_time_df['Streets'])\n",
    "reg_time_df['Streets + GIS (%)'] = reg_time_df['Streets + GIS']*100 / sum(reg_time_df['Streets + GIS'])"
   ]
  },
  {
   "cell_type": "code",
   "execution_count": 27,
   "metadata": {},
   "outputs": [
    {
     "data": {
      "text/html": [
       "<div>\n",
       "<style scoped>\n",
       "    .dataframe tbody tr th:only-of-type {\n",
       "        vertical-align: middle;\n",
       "    }\n",
       "\n",
       "    .dataframe tbody tr th {\n",
       "        vertical-align: top;\n",
       "    }\n",
       "\n",
       "    .dataframe thead th {\n",
       "        text-align: right;\n",
       "    }\n",
       "</style>\n",
       "<table border=\"1\" class=\"dataframe\">\n",
       "  <thead>\n",
       "    <tr style=\"text-align: right;\">\n",
       "      <th></th>\n",
       "      <th>Total</th>\n",
       "      <th>Streets</th>\n",
       "      <th>Streets + GIS</th>\n",
       "      <th>Total (%)</th>\n",
       "      <th>Streets (%)</th>\n",
       "      <th>Streets + GIS (%)</th>\n",
       "    </tr>\n",
       "  </thead>\n",
       "  <tbody>\n",
       "    <tr>\n",
       "      <td>00:00 - 00:59</td>\n",
       "      <td>76.0</td>\n",
       "      <td>42.0</td>\n",
       "      <td>7.0</td>\n",
       "      <td>9.464508</td>\n",
       "      <td>10.319410</td>\n",
       "      <td>6.194690</td>\n",
       "    </tr>\n",
       "    <tr>\n",
       "      <td>01:00 - 01:59</td>\n",
       "      <td>30.0</td>\n",
       "      <td>15.0</td>\n",
       "      <td>6.0</td>\n",
       "      <td>3.735990</td>\n",
       "      <td>3.685504</td>\n",
       "      <td>5.309735</td>\n",
       "    </tr>\n",
       "    <tr>\n",
       "      <td>02:00 - 02:59</td>\n",
       "      <td>40.0</td>\n",
       "      <td>27.0</td>\n",
       "      <td>13.0</td>\n",
       "      <td>4.981320</td>\n",
       "      <td>6.633907</td>\n",
       "      <td>11.504425</td>\n",
       "    </tr>\n",
       "    <tr>\n",
       "      <td>03:00 - 03:59</td>\n",
       "      <td>31.0</td>\n",
       "      <td>12.0</td>\n",
       "      <td>6.0</td>\n",
       "      <td>3.860523</td>\n",
       "      <td>2.948403</td>\n",
       "      <td>5.309735</td>\n",
       "    </tr>\n",
       "    <tr>\n",
       "      <td>04:00 - 04:59</td>\n",
       "      <td>18.0</td>\n",
       "      <td>6.0</td>\n",
       "      <td>2.0</td>\n",
       "      <td>2.241594</td>\n",
       "      <td>1.474201</td>\n",
       "      <td>1.769912</td>\n",
       "    </tr>\n",
       "    <tr>\n",
       "      <td>05:00 - 05:59</td>\n",
       "      <td>25.0</td>\n",
       "      <td>17.0</td>\n",
       "      <td>7.0</td>\n",
       "      <td>3.113325</td>\n",
       "      <td>4.176904</td>\n",
       "      <td>6.194690</td>\n",
       "    </tr>\n",
       "    <tr>\n",
       "      <td>06:00 - 06:59</td>\n",
       "      <td>14.0</td>\n",
       "      <td>8.0</td>\n",
       "      <td>2.0</td>\n",
       "      <td>1.743462</td>\n",
       "      <td>1.965602</td>\n",
       "      <td>1.769912</td>\n",
       "    </tr>\n",
       "    <tr>\n",
       "      <td>07:00 - 07:59</td>\n",
       "      <td>15.0</td>\n",
       "      <td>10.0</td>\n",
       "      <td>0.0</td>\n",
       "      <td>1.867995</td>\n",
       "      <td>2.457002</td>\n",
       "      <td>0.000000</td>\n",
       "    </tr>\n",
       "    <tr>\n",
       "      <td>08:00 - 08:59</td>\n",
       "      <td>6.0</td>\n",
       "      <td>1.0</td>\n",
       "      <td>0.0</td>\n",
       "      <td>0.747198</td>\n",
       "      <td>0.245700</td>\n",
       "      <td>0.000000</td>\n",
       "    </tr>\n",
       "    <tr>\n",
       "      <td>09:00 - 09:59</td>\n",
       "      <td>14.0</td>\n",
       "      <td>6.0</td>\n",
       "      <td>1.0</td>\n",
       "      <td>1.743462</td>\n",
       "      <td>1.474201</td>\n",
       "      <td>0.884956</td>\n",
       "    </tr>\n",
       "    <tr>\n",
       "      <td>10:00 - 10:59</td>\n",
       "      <td>16.0</td>\n",
       "      <td>7.0</td>\n",
       "      <td>0.0</td>\n",
       "      <td>1.992528</td>\n",
       "      <td>1.719902</td>\n",
       "      <td>0.000000</td>\n",
       "    </tr>\n",
       "    <tr>\n",
       "      <td>11:00 - 11:59</td>\n",
       "      <td>22.0</td>\n",
       "      <td>13.0</td>\n",
       "      <td>3.0</td>\n",
       "      <td>2.739726</td>\n",
       "      <td>3.194103</td>\n",
       "      <td>2.654867</td>\n",
       "    </tr>\n",
       "    <tr>\n",
       "      <td>12:00 - 12:59</td>\n",
       "      <td>22.0</td>\n",
       "      <td>9.0</td>\n",
       "      <td>3.0</td>\n",
       "      <td>2.739726</td>\n",
       "      <td>2.211302</td>\n",
       "      <td>2.654867</td>\n",
       "    </tr>\n",
       "    <tr>\n",
       "      <td>13:00 - 13:59</td>\n",
       "      <td>19.0</td>\n",
       "      <td>10.0</td>\n",
       "      <td>2.0</td>\n",
       "      <td>2.366127</td>\n",
       "      <td>2.457002</td>\n",
       "      <td>1.769912</td>\n",
       "    </tr>\n",
       "    <tr>\n",
       "      <td>14:00 - 14:59</td>\n",
       "      <td>36.0</td>\n",
       "      <td>12.0</td>\n",
       "      <td>3.0</td>\n",
       "      <td>4.483188</td>\n",
       "      <td>2.948403</td>\n",
       "      <td>2.654867</td>\n",
       "    </tr>\n",
       "    <tr>\n",
       "      <td>15:00 - 15:59</td>\n",
       "      <td>25.0</td>\n",
       "      <td>8.0</td>\n",
       "      <td>1.0</td>\n",
       "      <td>3.113325</td>\n",
       "      <td>1.965602</td>\n",
       "      <td>0.884956</td>\n",
       "    </tr>\n",
       "    <tr>\n",
       "      <td>16:00 - 16:59</td>\n",
       "      <td>19.0</td>\n",
       "      <td>9.0</td>\n",
       "      <td>3.0</td>\n",
       "      <td>2.366127</td>\n",
       "      <td>2.211302</td>\n",
       "      <td>2.654867</td>\n",
       "    </tr>\n",
       "    <tr>\n",
       "      <td>17:00 - 17:59</td>\n",
       "      <td>22.0</td>\n",
       "      <td>13.0</td>\n",
       "      <td>1.0</td>\n",
       "      <td>2.739726</td>\n",
       "      <td>3.194103</td>\n",
       "      <td>0.884956</td>\n",
       "    </tr>\n",
       "    <tr>\n",
       "      <td>18:00 - 18:59</td>\n",
       "      <td>38.0</td>\n",
       "      <td>12.0</td>\n",
       "      <td>3.0</td>\n",
       "      <td>4.732254</td>\n",
       "      <td>2.948403</td>\n",
       "      <td>2.654867</td>\n",
       "    </tr>\n",
       "    <tr>\n",
       "      <td>19:00 - 19:59</td>\n",
       "      <td>49.0</td>\n",
       "      <td>25.0</td>\n",
       "      <td>6.0</td>\n",
       "      <td>6.102117</td>\n",
       "      <td>6.142506</td>\n",
       "      <td>5.309735</td>\n",
       "    </tr>\n",
       "    <tr>\n",
       "      <td>20:00 - 20:59</td>\n",
       "      <td>70.0</td>\n",
       "      <td>34.0</td>\n",
       "      <td>12.0</td>\n",
       "      <td>8.717310</td>\n",
       "      <td>8.353808</td>\n",
       "      <td>10.619469</td>\n",
       "    </tr>\n",
       "    <tr>\n",
       "      <td>21:00 - 21:59</td>\n",
       "      <td>75.0</td>\n",
       "      <td>44.0</td>\n",
       "      <td>13.0</td>\n",
       "      <td>9.339975</td>\n",
       "      <td>10.810811</td>\n",
       "      <td>11.504425</td>\n",
       "    </tr>\n",
       "    <tr>\n",
       "      <td>22:00 - 22:59</td>\n",
       "      <td>63.0</td>\n",
       "      <td>36.0</td>\n",
       "      <td>8.0</td>\n",
       "      <td>7.845579</td>\n",
       "      <td>8.845209</td>\n",
       "      <td>7.079646</td>\n",
       "    </tr>\n",
       "    <tr>\n",
       "      <td>23:00 - 23:59</td>\n",
       "      <td>58.0</td>\n",
       "      <td>31.0</td>\n",
       "      <td>11.0</td>\n",
       "      <td>7.222914</td>\n",
       "      <td>7.616708</td>\n",
       "      <td>9.734513</td>\n",
       "    </tr>\n",
       "  </tbody>\n",
       "</table>\n",
       "</div>"
      ],
      "text/plain": [
       "               Total  Streets  Streets + GIS  Total (%)  Streets (%)  \\\n",
       "00:00 - 00:59   76.0     42.0            7.0   9.464508    10.319410   \n",
       "01:00 - 01:59   30.0     15.0            6.0   3.735990     3.685504   \n",
       "02:00 - 02:59   40.0     27.0           13.0   4.981320     6.633907   \n",
       "03:00 - 03:59   31.0     12.0            6.0   3.860523     2.948403   \n",
       "04:00 - 04:59   18.0      6.0            2.0   2.241594     1.474201   \n",
       "05:00 - 05:59   25.0     17.0            7.0   3.113325     4.176904   \n",
       "06:00 - 06:59   14.0      8.0            2.0   1.743462     1.965602   \n",
       "07:00 - 07:59   15.0     10.0            0.0   1.867995     2.457002   \n",
       "08:00 - 08:59    6.0      1.0            0.0   0.747198     0.245700   \n",
       "09:00 - 09:59   14.0      6.0            1.0   1.743462     1.474201   \n",
       "10:00 - 10:59   16.0      7.0            0.0   1.992528     1.719902   \n",
       "11:00 - 11:59   22.0     13.0            3.0   2.739726     3.194103   \n",
       "12:00 - 12:59   22.0      9.0            3.0   2.739726     2.211302   \n",
       "13:00 - 13:59   19.0     10.0            2.0   2.366127     2.457002   \n",
       "14:00 - 14:59   36.0     12.0            3.0   4.483188     2.948403   \n",
       "15:00 - 15:59   25.0      8.0            1.0   3.113325     1.965602   \n",
       "16:00 - 16:59   19.0      9.0            3.0   2.366127     2.211302   \n",
       "17:00 - 17:59   22.0     13.0            1.0   2.739726     3.194103   \n",
       "18:00 - 18:59   38.0     12.0            3.0   4.732254     2.948403   \n",
       "19:00 - 19:59   49.0     25.0            6.0   6.102117     6.142506   \n",
       "20:00 - 20:59   70.0     34.0           12.0   8.717310     8.353808   \n",
       "21:00 - 21:59   75.0     44.0           13.0   9.339975    10.810811   \n",
       "22:00 - 22:59   63.0     36.0            8.0   7.845579     8.845209   \n",
       "23:00 - 23:59   58.0     31.0           11.0   7.222914     7.616708   \n",
       "\n",
       "               Streets + GIS (%)  \n",
       "00:00 - 00:59           6.194690  \n",
       "01:00 - 01:59           5.309735  \n",
       "02:00 - 02:59          11.504425  \n",
       "03:00 - 03:59           5.309735  \n",
       "04:00 - 04:59           1.769912  \n",
       "05:00 - 05:59           6.194690  \n",
       "06:00 - 06:59           1.769912  \n",
       "07:00 - 07:59           0.000000  \n",
       "08:00 - 08:59           0.000000  \n",
       "09:00 - 09:59           0.884956  \n",
       "10:00 - 10:59           0.000000  \n",
       "11:00 - 11:59           2.654867  \n",
       "12:00 - 12:59           2.654867  \n",
       "13:00 - 13:59           1.769912  \n",
       "14:00 - 14:59           2.654867  \n",
       "15:00 - 15:59           0.884956  \n",
       "16:00 - 16:59           2.654867  \n",
       "17:00 - 17:59           0.884956  \n",
       "18:00 - 18:59           2.654867  \n",
       "19:00 - 19:59           5.309735  \n",
       "20:00 - 20:59          10.619469  \n",
       "21:00 - 21:59          11.504425  \n",
       "22:00 - 22:59           7.079646  \n",
       "23:00 - 23:59           9.734513  "
      ]
     },
     "execution_count": 27,
     "metadata": {},
     "output_type": "execute_result"
    }
   ],
   "source": [
    "reg_time_df"
   ]
  },
  {
   "cell_type": "code",
   "execution_count": 28,
   "metadata": {},
   "outputs": [
    {
     "data": {
      "text/plain": [
       "Text(0, 0.5, '% of muggings')"
      ]
     },
     "execution_count": 28,
     "metadata": {},
     "output_type": "execute_result"
    },
    {
     "data": {
      "image/png": "[encoded data removed]",
      "text/plain": [
       "<Figure size 864x576 with 1 Axes>"
      ]
     },
     "metadata": {
      "needs_background": "light"
     },
     "output_type": "display_data"
    }
   ],
   "source": [
    "ax = reg_time_df[['Total (%)', 'Streets (%)', 'Streets + GIS (%)']].plot(kind='bar', figsize=((12,8)))\n",
    "#ax.set_xlabel('Time of the day')\n",
    "ax.set_ylabel('% of muggings')"
   ]
  },
  {
   "cell_type": "code",
   "execution_count": 29,
   "metadata": {},
   "outputs": [
    {
     "data": {
      "text/plain": [
       "Text(0, 0.5, '# of muggings')"
      ]
     },
     "execution_count": 29,
     "metadata": {},
     "output_type": "execute_result"
    },
    {
     "data": {
      "image/png": "[encoded data removed]",
      "text/plain": [
       "<Figure size 864x576 with 1 Axes>"
      ]
     },
     "metadata": {
      "needs_background": "light"
     },
     "output_type": "display_data"
    }
   ],
   "source": [
    "ax = reg_time_df['Streets + GIS'].plot(kind='bar', figsize=((12,8)))\n",
    "#ax.set_xlabel('Time of the day')\n",
    "ax.set_ylabel('# of muggings')"
   ]
  },
  {
   "cell_type": "code",
   "execution_count": 30,
   "metadata": {},
   "outputs": [],
   "source": [
    "time_hist = pd.Series(reg_time_df['Streets + GIS'])\n",
    "#time_hist['Label'] = reg_time_df.index\n",
    "time_hist.reset_index(inplace=True, drop=True)"
   ]
  },
  {
   "cell_type": "code",
   "execution_count": 31,
   "metadata": {},
   "outputs": [],
   "source": [
    "time_hist_2h = pd.Series([time_hist[i]+time_hist[i+1] for i in np.arange(0, 23, 2)], \n",
    "                         index=['00:00-01:59', '02:00-03:59', '04:00-05:59', '06:00-07:59', '08:00-09:59', \n",
    "                                '10:00-11:59', '12:00-13:59', '14:00-15:59', '16:00-17:59', '18:00-19:59', \n",
    "                                '20:00-21:59', '22:00-23:59'])"
   ]
  },
  {
   "cell_type": "code",
   "execution_count": 32,
   "metadata": {},
   "outputs": [
    {
     "data": {
      "text/plain": [
       "<matplotlib.axes._subplots.AxesSubplot at 0x13416d1d0>"
      ]
     },
     "execution_count": 32,
     "metadata": {},
     "output_type": "execute_result"
    },
    {
     "data": {
      "image/png": "[encoded data removed]",
      "text/plain": [
       "<Figure size 864x576 with 1 Axes>"
      ]
     },
     "metadata": {
      "needs_background": "light"
     },
     "output_type": "display_data"
    }
   ],
   "source": [
    "time_hist_2h.plot(kind='bar', figsize=((12,8)), color='blue', )"
   ]
  },
  {
   "cell_type": "code",
   "execution_count": 33,
   "metadata": {},
   "outputs": [
    {
     "data": {
      "text/plain": [
       "[0.11504424778761062,\n",
       " 0.168141592920354,\n",
       " 0.07964601769911504,\n",
       " 0.017699115044247787,\n",
       " 0.008849557522123894,\n",
       " 0.02654867256637168,\n",
       " 0.04424778761061947,\n",
       " 0.035398230088495575,\n",
       " 0.035398230088495575,\n",
       " 0.07964601769911504,\n",
       " 0.22123893805309736,\n",
       " 0.168141592920354]"
      ]
     },
     "execution_count": 33,
     "metadata": {},
     "output_type": "execute_result"
    }
   ],
   "source": [
    "# Array used in the netlogo code for the variable \n",
    "# crime-rates-per-hour [13, 13, 19, 19, 9, 9, 2, 2, 1, 1, 3, 3, 5, 5, 4, 4, 4, 4, 9, 9, 25, 25, 19, 19]\n",
    "list(time_hist_2h/sum(time_hist_2h))"
   ]
  },
  {
   "cell_type": "code",
   "execution_count": 34,
   "metadata": {},
   "outputs": [
    {
     "data": {
      "text/plain": [
       "113.0"
      ]
     },
     "execution_count": 34,
     "metadata": {},
     "output_type": "execute_result"
    }
   ],
   "source": [
    "sum(time_hist_2h)"
   ]
  },
  {
   "cell_type": "code",
   "execution_count": 37,
   "metadata": {},
   "outputs": [
    {
     "data": {
      "text/plain": [
       "113.0"
      ]
     },
     "execution_count": 37,
     "metadata": {},
     "output_type": "execute_result"
    }
   ],
   "source": [
    "sum(reg_time_df['Streets + GIS'])"
   ]
  },
  {
   "cell_type": "code",
   "execution_count": 38,
   "metadata": {},
   "outputs": [
    {
     "data": {
      "text/plain": [
       "0      7.0\n",
       "1      6.0\n",
       "2     13.0\n",
       "3      6.0\n",
       "4      2.0\n",
       "5      7.0\n",
       "6      2.0\n",
       "7      0.0\n",
       "8      0.0\n",
       "9      1.0\n",
       "10     0.0\n",
       "11     3.0\n",
       "12     3.0\n",
       "13     2.0\n",
       "14     3.0\n",
       "15     1.0\n",
       "16     3.0\n",
       "17     1.0\n",
       "18     3.0\n",
       "19     6.0\n",
       "20    12.0\n",
       "21    13.0\n",
       "22     8.0\n",
       "23    11.0\n",
       "Name: Streets + GIS, dtype: float64"
      ]
     },
     "execution_count": 38,
     "metadata": {},
     "output_type": "execute_result"
    }
   ],
   "source": [
    "reg_time_df['Streets + GIS']"
   ]
  },
  {
   "cell_type": "code",
   "execution_count": null,
   "metadata": {},
   "outputs": [],
   "source": []
  }
 ],
 "metadata": {
  "kernelspec": {
   "display_name": "Python 3",
   "language": "python",
   "name": "python3"
  },
  "language_info": {
   "codemirror_mode": {
    "name": "ipython",
    "version": 3
   },
   "file_extension": ".py",
   "mimetype": "text/x-python",
   "name": "python",
   "nbconvert_exporter": "python",
   "pygments_lexer": "ipython3",
   "version": "3.7.4"
  }
 },
 "nbformat": 4,
 "nbformat_minor": 4
}
